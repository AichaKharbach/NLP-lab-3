{
 "cells": [
  {
   "cell_type": "markdown",
   "id": "e5317a04",
   "metadata": {},
   "source": [
    "<h2 style=\"color:black;\">Lab3 </h2>\n",
    "\n",
    "<hr style=\"border:2px solid black;\">\n",
    "\n",
    "<h4 style=\"color:black;\">Realised by:</h4>\n",
    "<ul>\n",
    "    <li><strong style=\"color:black;\">Aicha Kharbach</strong></li>\n",
    "</ul>\n",
    "\n",
    "<h4 style=\"color:black;\">Guided by:</h4> \n",
    "<ul>\n",
    "    <li><strong style=\"color:black;\">Pr . ELAACHAk LOTFI</strong></li>\n",
    "</ul>\n",
    "<p><strong>The main purpose behind this lab is to get familiar with NLP language models\n",
    "using Sklearn library.</p>"
   ]
  },
  {
   "cell_type": "markdown",
   "id": "3e38369c",
   "metadata": {},
   "source": [
    "# Part 1: Language Modeling / Regression "
   ]
  },
  {
   "cell_type": "code",
   "execution_count": 1,
   "id": "85f850a8",
   "metadata": {},
   "outputs": [],
   "source": [
    "import pandas as pd\n",
    "import numpy as np\n",
    "from sklearn.feature_extraction.text import CountVectorizer, TfidfVectorizer\n",
    "from sklearn.model_selection import train_test_split\n",
    "from sklearn.svm import SVR\n",
    "from sklearn.naive_bayes import MultinomialNB\n",
    "from sklearn.linear_model import LinearRegression\n",
    "from sklearn.tree import DecisionTreeRegressor\n",
    "from sklearn.metrics import mean_squared_error, mean_absolute_error\n",
    "from gensim.models import Word2Vec\n",
    "from nltk.tokenize import word_tokenize\n",
    "from nltk.corpus import stopwords\n",
    "from nltk.stem import PorterStemmer, WordNetLemmatizer\n",
    "import string\n",
    "from sklearn.model_selection import GridSearchCV\n",
    "import re\n",
    "from gensim.models import KeyedVectors\n",
    "import matplotlib.pyplot as plt\n",
    "import seaborn as sns\n",
    "from wordcloud import WordCloud\n",
    "import nltk"
   ]
  },
  {
   "cell_type": "code",
   "execution_count": 2,
   "id": "3e60184b",
   "metadata": {},
   "outputs": [
    {
     "name": "stderr",
     "output_type": "stream",
     "text": [
      "[nltk_data] Downloading package punkt to\n",
      "[nltk_data]     C:\\Users\\hp\\AppData\\Roaming\\nltk_data...\n",
      "[nltk_data]   Package punkt is already up-to-date!\n",
      "[nltk_data] Downloading package stopwords to\n",
      "[nltk_data]     C:\\Users\\hp\\AppData\\Roaming\\nltk_data...\n",
      "[nltk_data]   Package stopwords is already up-to-date!\n",
      "[nltk_data] Downloading package wordnet to\n",
      "[nltk_data]     C:\\Users\\hp\\AppData\\Roaming\\nltk_data...\n",
      "[nltk_data]   Package wordnet is already up-to-date!\n"
     ]
    },
    {
     "data": {
      "text/plain": [
       "True"
      ]
     },
     "execution_count": 2,
     "metadata": {},
     "output_type": "execute_result"
    }
   ],
   "source": [
    "nltk.download('punkt')\n",
    "nltk.download('stopwords')\n",
    "nltk.download('wordnet')"
   ]
  },
  {
   "cell_type": "code",
   "execution_count": 3,
   "id": "ae3bea4e",
   "metadata": {},
   "outputs": [
    {
     "data": {
      "text/html": [
       "<div>\n",
       "<style scoped>\n",
       "    .dataframe tbody tr th:only-of-type {\n",
       "        vertical-align: middle;\n",
       "    }\n",
       "\n",
       "    .dataframe tbody tr th {\n",
       "        vertical-align: top;\n",
       "    }\n",
       "\n",
       "    .dataframe thead th {\n",
       "        text-align: right;\n",
       "    }\n",
       "</style>\n",
       "<table border=\"1\" class=\"dataframe\">\n",
       "  <thead>\n",
       "    <tr style=\"text-align: right;\">\n",
       "      <th></th>\n",
       "      <th>id</th>\n",
       "      <th>answer</th>\n",
       "      <th>score</th>\n",
       "      <th>correct</th>\n",
       "    </tr>\n",
       "  </thead>\n",
       "  <tbody>\n",
       "    <tr>\n",
       "      <th>0</th>\n",
       "      <td>1.1</td>\n",
       "      <td>High risk problems are address in the prototyp...</td>\n",
       "      <td>3.5</td>\n",
       "      <td>0.0</td>\n",
       "    </tr>\n",
       "    <tr>\n",
       "      <th>1</th>\n",
       "      <td>1.1</td>\n",
       "      <td>To simulate portions of the desired final prod...</td>\n",
       "      <td>5.0</td>\n",
       "      <td>1.0</td>\n",
       "    </tr>\n",
       "    <tr>\n",
       "      <th>2</th>\n",
       "      <td>1.1</td>\n",
       "      <td>A prototype program simulates the behaviors of...</td>\n",
       "      <td>4.0</td>\n",
       "      <td>1.0</td>\n",
       "    </tr>\n",
       "    <tr>\n",
       "      <th>3</th>\n",
       "      <td>1.1</td>\n",
       "      <td>Defined in the Specification phase a prototype...</td>\n",
       "      <td>5.0</td>\n",
       "      <td>1.0</td>\n",
       "    </tr>\n",
       "    <tr>\n",
       "      <th>4</th>\n",
       "      <td>1.1</td>\n",
       "      <td>It is used to let the users have a first idea ...</td>\n",
       "      <td>3.0</td>\n",
       "      <td>0.0</td>\n",
       "    </tr>\n",
       "  </tbody>\n",
       "</table>\n",
       "</div>"
      ],
      "text/plain": [
       "    id                                             answer  score  correct\n",
       "0  1.1  High risk problems are address in the prototyp...    3.5      0.0\n",
       "1  1.1  To simulate portions of the desired final prod...    5.0      1.0\n",
       "2  1.1  A prototype program simulates the behaviors of...    4.0      1.0\n",
       "3  1.1  Defined in the Specification phase a prototype...    5.0      1.0\n",
       "4  1.1  It is used to let the users have a first idea ...    3.0      0.0"
      ]
     },
     "execution_count": 3,
     "metadata": {},
     "output_type": "execute_result"
    }
   ],
   "source": [
    "data = pd.read_csv('answers.csv')\n",
    "data.head()"
   ]
  },
  {
   "cell_type": "code",
   "execution_count": 4,
   "id": "cc0d433c",
   "metadata": {
    "scrolled": true
   },
   "outputs": [
    {
     "data": {
      "image/png": "[encoded data removed]",
      "text/plain": [
       "<Figure size 1600x600 with 2 Axes>"
      ]
     },
     "metadata": {},
     "output_type": "display_data"
    }
   ],
   "source": [
    "fig, axs = plt.subplots(1, 2, figsize=(16, 6))\n",
    "\n",
    "sns.histplot(data['score'], bins=20, kde=False, color='skyblue', ax=axs[0])\n",
    "axs[0].set_title('Score Distribution - Histogram')\n",
    "axs[0].set_xlabel('Score')\n",
    "axs[0].set_ylabel('Frequency')\n",
    "axs[0].grid(axis='y', linestyle='--', alpha=0.7)\n",
    "\n",
    "sns.kdeplot(data['score'], color='orange', ax=axs[1])\n",
    "axs[1].set_title('Score Distribution - KDE Plot')\n",
    "axs[1].set_xlabel('Score')\n",
    "axs[1].set_ylabel('Density')\n",
    "axs[1].grid(axis='y', linestyle='--', alpha=0.7)\n",
    "\n",
    "plt.tight_layout()\n",
    "plt.show()"
   ]
  },
  {
   "cell_type": "markdown",
   "id": "33d00326",
   "metadata": {},
   "source": [
    "# Data Preprocessing"
   ]
  },
  {
   "cell_type": "code",
   "execution_count": 6,
   "id": "a89044be",
   "metadata": {},
   "outputs": [],
   "source": [
    "def preprocess_text(text):\n",
    "    \n",
    "    text = re.sub(r'[^\\w\\s]', '', text.lower())\n",
    "    tokens = word_tokenize(text)\n",
    "    filtered_tokens = [token for token in tokens if token not in stopwords.words('english')]\n",
    "    lemmatizer = WordNetLemmatizer()\n",
    "    lemmatized_tokens = [lemmatizer.lemmatize(token) for token in filtered_tokens]\n",
    "    return lemmatized_tokens"
   ]
  },
  {
   "cell_type": "code",
   "execution_count": 7,
   "id": "665d473f",
   "metadata": {
    "scrolled": true
   },
   "outputs": [
    {
     "data": {
      "text/html": [
       "<div>\n",
       "<style scoped>\n",
       "    .dataframe tbody tr th:only-of-type {\n",
       "        vertical-align: middle;\n",
       "    }\n",
       "\n",
       "    .dataframe tbody tr th {\n",
       "        vertical-align: top;\n",
       "    }\n",
       "\n",
       "    .dataframe thead th {\n",
       "        text-align: right;\n",
       "    }\n",
       "</style>\n",
       "<table border=\"1\" class=\"dataframe\">\n",
       "  <thead>\n",
       "    <tr style=\"text-align: right;\">\n",
       "      <th></th>\n",
       "      <th>id</th>\n",
       "      <th>answer</th>\n",
       "      <th>score</th>\n",
       "      <th>correct</th>\n",
       "    </tr>\n",
       "  </thead>\n",
       "  <tbody>\n",
       "    <tr>\n",
       "      <th>0</th>\n",
       "      <td>1.1</td>\n",
       "      <td>[high, risk, problem, address, prototype, prog...</td>\n",
       "      <td>3.5</td>\n",
       "      <td>0.0</td>\n",
       "    </tr>\n",
       "    <tr>\n",
       "      <th>1</th>\n",
       "      <td>1.1</td>\n",
       "      <td>[simulate, portion, desired, final, product, q...</td>\n",
       "      <td>5.0</td>\n",
       "      <td>1.0</td>\n",
       "    </tr>\n",
       "    <tr>\n",
       "      <th>2</th>\n",
       "      <td>1.1</td>\n",
       "      <td>[prototype, program, simulates, behavior, port...</td>\n",
       "      <td>4.0</td>\n",
       "      <td>1.0</td>\n",
       "    </tr>\n",
       "    <tr>\n",
       "      <th>3</th>\n",
       "      <td>1.1</td>\n",
       "      <td>[defined, specification, phase, prototype, sti...</td>\n",
       "      <td>5.0</td>\n",
       "      <td>1.0</td>\n",
       "    </tr>\n",
       "    <tr>\n",
       "      <th>4</th>\n",
       "      <td>1.1</td>\n",
       "      <td>[used, let, user, first, idea, completed, prog...</td>\n",
       "      <td>3.0</td>\n",
       "      <td>0.0</td>\n",
       "    </tr>\n",
       "    <tr>\n",
       "      <th>...</th>\n",
       "      <td>...</td>\n",
       "      <td>...</td>\n",
       "      <td>...</td>\n",
       "      <td>...</td>\n",
       "    </tr>\n",
       "    <tr>\n",
       "      <th>2437</th>\n",
       "      <td>12.1</td>\n",
       "      <td>[log, n]</td>\n",
       "      <td>5.0</td>\n",
       "      <td>1.0</td>\n",
       "    </tr>\n",
       "    <tr>\n",
       "      <th>2438</th>\n",
       "      <td>12.1</td>\n",
       "      <td>[minus, 1, divided, 2]</td>\n",
       "      <td>1.5</td>\n",
       "      <td>0.0</td>\n",
       "    </tr>\n",
       "    <tr>\n",
       "      <th>2439</th>\n",
       "      <td>12.1</td>\n",
       "      <td>[2n1]</td>\n",
       "      <td>2.5</td>\n",
       "      <td>0.0</td>\n",
       "    </tr>\n",
       "    <tr>\n",
       "      <th>2440</th>\n",
       "      <td>12.1</td>\n",
       "      <td>[take, h, step, h, height, tree]</td>\n",
       "      <td>5.0</td>\n",
       "      <td>1.0</td>\n",
       "    </tr>\n",
       "    <tr>\n",
       "      <th>2441</th>\n",
       "      <td>12.1</td>\n",
       "      <td>[depends, install, search, tree, whatever, cas...</td>\n",
       "      <td>1.5</td>\n",
       "      <td>0.0</td>\n",
       "    </tr>\n",
       "  </tbody>\n",
       "</table>\n",
       "<p>2442 rows × 4 columns</p>\n",
       "</div>"
      ],
      "text/plain": [
       "        id                                             answer  score  correct\n",
       "0      1.1  [high, risk, problem, address, prototype, prog...    3.5      0.0\n",
       "1      1.1  [simulate, portion, desired, final, product, q...    5.0      1.0\n",
       "2      1.1  [prototype, program, simulates, behavior, port...    4.0      1.0\n",
       "3      1.1  [defined, specification, phase, prototype, sti...    5.0      1.0\n",
       "4      1.1  [used, let, user, first, idea, completed, prog...    3.0      0.0\n",
       "...    ...                                                ...    ...      ...\n",
       "2437  12.1                                           [log, n]    5.0      1.0\n",
       "2438  12.1                             [minus, 1, divided, 2]    1.5      0.0\n",
       "2439  12.1                                              [2n1]    2.5      0.0\n",
       "2440  12.1                   [take, h, step, h, height, tree]    5.0      1.0\n",
       "2441  12.1  [depends, install, search, tree, whatever, cas...    1.5      0.0\n",
       "\n",
       "[2442 rows x 4 columns]"
      ]
     },
     "execution_count": 7,
     "metadata": {},
     "output_type": "execute_result"
    }
   ],
   "source": [
    "data[\"answer\"] = data[\"answer\"].apply(preprocess_text)\n",
    "data"
   ]
  },
  {
   "cell_type": "markdown",
   "id": "87f5bac9",
   "metadata": {},
   "source": [
    "# Feature Encoding with Word Embeddings"
   ]
  },
  {
   "cell_type": "code",
   "execution_count": 8,
   "id": "e47487da",
   "metadata": {},
   "outputs": [],
   "source": [
    "model = KeyedVectors.load_word2vec_format(r'GoogleNews-vectors-negative300.bin', binary=True)"
   ]
  },
  {
   "cell_type": "code",
   "execution_count": 9,
   "id": "849e7364",
   "metadata": {},
   "outputs": [],
   "source": [
    "def text_to_vec(text, model):\n",
    "    vecs = []\n",
    "    for word in text:\n",
    "        if word in model.key_to_index:\n",
    "            vecs.append(model[word])\n",
    "    if len(vecs) > 0:\n",
    "        return np.mean(vecs, axis=0)\n",
    "    else:\n",
    "        return np.zeros(model.vector_size)"
   ]
  },
  {
   "cell_type": "code",
   "execution_count": 10,
   "id": "569e9491",
   "metadata": {},
   "outputs": [
    {
     "name": "stdout",
     "output_type": "stream",
     "text": [
      "  (0, 976)\t1\n",
      "  (0, 1882)\t1\n",
      "  (0, 1656)\t1\n",
      "  (0, 104)\t1\n",
      "  (0, 1692)\t2\n",
      "  (0, 1668)\t2\n",
      "  (0, 1287)\t1\n",
      "  (0, 2140)\t1\n",
      "  (0, 833)\t1\n",
      "  (0, 1305)\t1\n",
      "  (0, 136)\t1\n",
      "  (0, 2283)\t1\n",
      "  (0, 1969)\t1\n",
      "  (0, 391)\t1\n",
      "  (0, 2017)\t1\n",
      "  (0, 1609)\t1\n",
      "  (0, 1673)\t1\n"
     ]
    }
   ],
   "source": [
    "vectorizer = CountVectorizer()\n",
    "X_bow = vectorizer.fit_transform(data['answer'].apply(lambda x: ' '.join(x)))\n",
    "print(X_bow[0])"
   ]
  },
  {
   "cell_type": "code",
   "execution_count": 11,
   "id": "2fbaf078",
   "metadata": {},
   "outputs": [
    {
     "name": "stdout",
     "output_type": "stream",
     "text": [
      "  (0, 1673)\t0.2765129460793549\n",
      "  (0, 1609)\t0.2516291538993865\n",
      "  (0, 2017)\t0.21424124767532646\n",
      "  (0, 391)\t0.29106903138037477\n",
      "  (0, 1969)\t0.22674536171941803\n",
      "  (0, 2283)\t0.15209398517951273\n",
      "  (0, 136)\t0.16721543214247367\n",
      "  (0, 1305)\t0.18831681093444316\n",
      "  (0, 833)\t0.29106903138037477\n",
      "  (0, 2140)\t0.2460951871044503\n",
      "  (0, 1287)\t0.17850565575264057\n",
      "  (0, 1668)\t0.275576146361274\n",
      "  (0, 1692)\t0.34684088269120444\n",
      "  (0, 104)\t0.146881991157807\n",
      "  (0, 1656)\t0.16500552079983902\n",
      "  (0, 1882)\t0.29106903138037477\n",
      "  (0, 976)\t0.29106903138037477\n"
     ]
    }
   ],
   "source": [
    "tfidf_vectorizer = TfidfVectorizer()\n",
    "X_tfidf = tfidf_vectorizer.fit_transform(data['answer'].apply(lambda x: ' '.join(x)))\n",
    "print(X_tfidf[0])"
   ]
  },
  {
   "cell_type": "code",
   "execution_count": 12,
   "id": "39fa84ba",
   "metadata": {},
   "outputs": [],
   "source": [
    "df = data.copy()\n",
    "df['answer'] = [text_to_vec(text, model) for text in df['answer']]\n",
    "vec_matrix = np.array([vec for vec in df['answer']])\n",
    "df.drop(['answer'], axis=1, inplace=True)\n",
    "final_df = df.join(pd.DataFrame(vec_matrix))\n",
    "final_df.columns = final_df.columns.astype(str)"
   ]
  },
  {
   "cell_type": "code",
   "execution_count": 13,
   "id": "7a596c14",
   "metadata": {},
   "outputs": [],
   "source": [
    "X = final_df.drop(['id', 'score', ], axis=1)\n",
    "y = final_df['score']"
   ]
  },
  {
   "cell_type": "code",
   "execution_count": 14,
   "id": "bb5046d0",
   "metadata": {},
   "outputs": [
    {
     "data": {
      "text/html": [
       "<div>\n",
       "<style scoped>\n",
       "    .dataframe tbody tr th:only-of-type {\n",
       "        vertical-align: middle;\n",
       "    }\n",
       "\n",
       "    .dataframe tbody tr th {\n",
       "        vertical-align: top;\n",
       "    }\n",
       "\n",
       "    .dataframe thead th {\n",
       "        text-align: right;\n",
       "    }\n",
       "</style>\n",
       "<table border=\"1\" class=\"dataframe\">\n",
       "  <thead>\n",
       "    <tr style=\"text-align: right;\">\n",
       "      <th></th>\n",
       "      <th>correct</th>\n",
       "      <th>0</th>\n",
       "      <th>1</th>\n",
       "      <th>2</th>\n",
       "      <th>3</th>\n",
       "      <th>4</th>\n",
       "      <th>5</th>\n",
       "      <th>6</th>\n",
       "      <th>7</th>\n",
       "      <th>8</th>\n",
       "      <th>...</th>\n",
       "      <th>290</th>\n",
       "      <th>291</th>\n",
       "      <th>292</th>\n",
       "      <th>293</th>\n",
       "      <th>294</th>\n",
       "      <th>295</th>\n",
       "      <th>296</th>\n",
       "      <th>297</th>\n",
       "      <th>298</th>\n",
       "      <th>299</th>\n",
       "    </tr>\n",
       "  </thead>\n",
       "  <tbody>\n",
       "    <tr>\n",
       "      <th>0</th>\n",
       "      <td>0.0</td>\n",
       "      <td>-0.011314</td>\n",
       "      <td>0.009007</td>\n",
       "      <td>0.036163</td>\n",
       "      <td>0.094203</td>\n",
       "      <td>-0.086490</td>\n",
       "      <td>0.018722</td>\n",
       "      <td>0.106346</td>\n",
       "      <td>0.020463</td>\n",
       "      <td>0.070989</td>\n",
       "      <td>...</td>\n",
       "      <td>-0.109144</td>\n",
       "      <td>0.056168</td>\n",
       "      <td>-0.094267</td>\n",
       "      <td>-0.002266</td>\n",
       "      <td>-0.000630</td>\n",
       "      <td>0.034838</td>\n",
       "      <td>-0.050432</td>\n",
       "      <td>-0.082519</td>\n",
       "      <td>-0.058517</td>\n",
       "      <td>-0.084094</td>\n",
       "    </tr>\n",
       "    <tr>\n",
       "      <th>1</th>\n",
       "      <td>1.0</td>\n",
       "      <td>0.060389</td>\n",
       "      <td>0.015101</td>\n",
       "      <td>0.001943</td>\n",
       "      <td>0.078427</td>\n",
       "      <td>-0.051615</td>\n",
       "      <td>-0.006441</td>\n",
       "      <td>0.117803</td>\n",
       "      <td>-0.036965</td>\n",
       "      <td>0.066339</td>\n",
       "      <td>...</td>\n",
       "      <td>-0.111039</td>\n",
       "      <td>0.037476</td>\n",
       "      <td>-0.037692</td>\n",
       "      <td>0.014641</td>\n",
       "      <td>-0.033205</td>\n",
       "      <td>0.092497</td>\n",
       "      <td>-0.027912</td>\n",
       "      <td>-0.017063</td>\n",
       "      <td>-0.050849</td>\n",
       "      <td>-0.066237</td>\n",
       "    </tr>\n",
       "    <tr>\n",
       "      <th>2</th>\n",
       "      <td>1.0</td>\n",
       "      <td>-0.026572</td>\n",
       "      <td>0.003052</td>\n",
       "      <td>0.023926</td>\n",
       "      <td>0.027011</td>\n",
       "      <td>-0.124079</td>\n",
       "      <td>0.011813</td>\n",
       "      <td>0.080247</td>\n",
       "      <td>-0.029785</td>\n",
       "      <td>0.052379</td>\n",
       "      <td>...</td>\n",
       "      <td>-0.120128</td>\n",
       "      <td>0.113636</td>\n",
       "      <td>-0.021476</td>\n",
       "      <td>-0.043010</td>\n",
       "      <td>0.050251</td>\n",
       "      <td>0.023088</td>\n",
       "      <td>0.028648</td>\n",
       "      <td>-0.092174</td>\n",
       "      <td>-0.106146</td>\n",
       "      <td>0.061167</td>\n",
       "    </tr>\n",
       "    <tr>\n",
       "      <th>3</th>\n",
       "      <td>1.0</td>\n",
       "      <td>-0.008671</td>\n",
       "      <td>0.014805</td>\n",
       "      <td>0.000142</td>\n",
       "      <td>0.075033</td>\n",
       "      <td>-0.145578</td>\n",
       "      <td>0.044373</td>\n",
       "      <td>0.101935</td>\n",
       "      <td>-0.095030</td>\n",
       "      <td>0.071394</td>\n",
       "      <td>...</td>\n",
       "      <td>-0.168329</td>\n",
       "      <td>0.041958</td>\n",
       "      <td>-0.046039</td>\n",
       "      <td>-0.039089</td>\n",
       "      <td>-0.018669</td>\n",
       "      <td>0.049331</td>\n",
       "      <td>-0.036801</td>\n",
       "      <td>-0.036714</td>\n",
       "      <td>-0.032854</td>\n",
       "      <td>0.002749</td>\n",
       "    </tr>\n",
       "    <tr>\n",
       "      <th>4</th>\n",
       "      <td>0.0</td>\n",
       "      <td>-0.004554</td>\n",
       "      <td>-0.003926</td>\n",
       "      <td>0.033550</td>\n",
       "      <td>0.072991</td>\n",
       "      <td>-0.047009</td>\n",
       "      <td>0.024852</td>\n",
       "      <td>0.105057</td>\n",
       "      <td>-0.020392</td>\n",
       "      <td>0.127749</td>\n",
       "      <td>...</td>\n",
       "      <td>-0.134584</td>\n",
       "      <td>0.128961</td>\n",
       "      <td>-0.055376</td>\n",
       "      <td>0.009431</td>\n",
       "      <td>-0.027363</td>\n",
       "      <td>0.014968</td>\n",
       "      <td>0.045993</td>\n",
       "      <td>-0.082018</td>\n",
       "      <td>-0.065550</td>\n",
       "      <td>-0.084932</td>\n",
       "    </tr>\n",
       "    <tr>\n",
       "      <th>...</th>\n",
       "      <td>...</td>\n",
       "      <td>...</td>\n",
       "      <td>...</td>\n",
       "      <td>...</td>\n",
       "      <td>...</td>\n",
       "      <td>...</td>\n",
       "      <td>...</td>\n",
       "      <td>...</td>\n",
       "      <td>...</td>\n",
       "      <td>...</td>\n",
       "      <td>...</td>\n",
       "      <td>...</td>\n",
       "      <td>...</td>\n",
       "      <td>...</td>\n",
       "      <td>...</td>\n",
       "      <td>...</td>\n",
       "      <td>...</td>\n",
       "      <td>...</td>\n",
       "      <td>...</td>\n",
       "      <td>...</td>\n",
       "      <td>...</td>\n",
       "    </tr>\n",
       "    <tr>\n",
       "      <th>2437</th>\n",
       "      <td>1.0</td>\n",
       "      <td>0.059906</td>\n",
       "      <td>-0.001709</td>\n",
       "      <td>-0.172974</td>\n",
       "      <td>0.051758</td>\n",
       "      <td>-0.112305</td>\n",
       "      <td>0.082764</td>\n",
       "      <td>0.064453</td>\n",
       "      <td>0.097168</td>\n",
       "      <td>-0.015137</td>\n",
       "      <td>...</td>\n",
       "      <td>0.093750</td>\n",
       "      <td>0.042542</td>\n",
       "      <td>0.026489</td>\n",
       "      <td>0.014893</td>\n",
       "      <td>-0.046875</td>\n",
       "      <td>-0.259277</td>\n",
       "      <td>0.060059</td>\n",
       "      <td>-0.158569</td>\n",
       "      <td>-0.154785</td>\n",
       "      <td>-0.022278</td>\n",
       "    </tr>\n",
       "    <tr>\n",
       "      <th>2438</th>\n",
       "      <td>0.0</td>\n",
       "      <td>0.057083</td>\n",
       "      <td>-0.097229</td>\n",
       "      <td>0.092163</td>\n",
       "      <td>0.070007</td>\n",
       "      <td>-0.083618</td>\n",
       "      <td>0.013002</td>\n",
       "      <td>-0.010864</td>\n",
       "      <td>-0.219482</td>\n",
       "      <td>0.080505</td>\n",
       "      <td>...</td>\n",
       "      <td>-0.066467</td>\n",
       "      <td>0.048859</td>\n",
       "      <td>-0.047043</td>\n",
       "      <td>0.087646</td>\n",
       "      <td>-0.072632</td>\n",
       "      <td>-0.008606</td>\n",
       "      <td>-0.140869</td>\n",
       "      <td>-0.116821</td>\n",
       "      <td>-0.064392</td>\n",
       "      <td>0.026764</td>\n",
       "    </tr>\n",
       "    <tr>\n",
       "      <th>2439</th>\n",
       "      <td>0.0</td>\n",
       "      <td>0.000000</td>\n",
       "      <td>0.000000</td>\n",
       "      <td>0.000000</td>\n",
       "      <td>0.000000</td>\n",
       "      <td>0.000000</td>\n",
       "      <td>0.000000</td>\n",
       "      <td>0.000000</td>\n",
       "      <td>0.000000</td>\n",
       "      <td>0.000000</td>\n",
       "      <td>...</td>\n",
       "      <td>0.000000</td>\n",
       "      <td>0.000000</td>\n",
       "      <td>0.000000</td>\n",
       "      <td>0.000000</td>\n",
       "      <td>0.000000</td>\n",
       "      <td>0.000000</td>\n",
       "      <td>0.000000</td>\n",
       "      <td>0.000000</td>\n",
       "      <td>0.000000</td>\n",
       "      <td>0.000000</td>\n",
       "    </tr>\n",
       "    <tr>\n",
       "      <th>2440</th>\n",
       "      <td>1.0</td>\n",
       "      <td>-0.039510</td>\n",
       "      <td>0.178182</td>\n",
       "      <td>-0.027710</td>\n",
       "      <td>-0.015666</td>\n",
       "      <td>-0.085327</td>\n",
       "      <td>-0.125814</td>\n",
       "      <td>0.041423</td>\n",
       "      <td>-0.071615</td>\n",
       "      <td>0.065877</td>\n",
       "      <td>...</td>\n",
       "      <td>-0.049072</td>\n",
       "      <td>0.149902</td>\n",
       "      <td>-0.137634</td>\n",
       "      <td>0.075846</td>\n",
       "      <td>-0.028071</td>\n",
       "      <td>-0.089600</td>\n",
       "      <td>-0.154867</td>\n",
       "      <td>-0.002360</td>\n",
       "      <td>-0.088175</td>\n",
       "      <td>0.027323</td>\n",
       "    </tr>\n",
       "    <tr>\n",
       "      <th>2441</th>\n",
       "      <td>0.0</td>\n",
       "      <td>0.078084</td>\n",
       "      <td>0.018366</td>\n",
       "      <td>-0.008784</td>\n",
       "      <td>0.052569</td>\n",
       "      <td>-0.065615</td>\n",
       "      <td>0.034973</td>\n",
       "      <td>0.103816</td>\n",
       "      <td>-0.079417</td>\n",
       "      <td>0.120544</td>\n",
       "      <td>...</td>\n",
       "      <td>-0.033778</td>\n",
       "      <td>0.135666</td>\n",
       "      <td>-0.024923</td>\n",
       "      <td>0.016905</td>\n",
       "      <td>0.022451</td>\n",
       "      <td>-0.023905</td>\n",
       "      <td>-0.034216</td>\n",
       "      <td>-0.109090</td>\n",
       "      <td>0.036997</td>\n",
       "      <td>0.015066</td>\n",
       "    </tr>\n",
       "  </tbody>\n",
       "</table>\n",
       "<p>2442 rows × 301 columns</p>\n",
       "</div>"
      ],
      "text/plain": [
       "      correct         0         1         2         3         4         5  \\\n",
       "0         0.0 -0.011314  0.009007  0.036163  0.094203 -0.086490  0.018722   \n",
       "1         1.0  0.060389  0.015101  0.001943  0.078427 -0.051615 -0.006441   \n",
       "2         1.0 -0.026572  0.003052  0.023926  0.027011 -0.124079  0.011813   \n",
       "3         1.0 -0.008671  0.014805  0.000142  0.075033 -0.145578  0.044373   \n",
       "4         0.0 -0.004554 -0.003926  0.033550  0.072991 -0.047009  0.024852   \n",
       "...       ...       ...       ...       ...       ...       ...       ...   \n",
       "2437      1.0  0.059906 -0.001709 -0.172974  0.051758 -0.112305  0.082764   \n",
       "2438      0.0  0.057083 -0.097229  0.092163  0.070007 -0.083618  0.013002   \n",
       "2439      0.0  0.000000  0.000000  0.000000  0.000000  0.000000  0.000000   \n",
       "2440      1.0 -0.039510  0.178182 -0.027710 -0.015666 -0.085327 -0.125814   \n",
       "2441      0.0  0.078084  0.018366 -0.008784  0.052569 -0.065615  0.034973   \n",
       "\n",
       "             6         7         8  ...       290       291       292  \\\n",
       "0     0.106346  0.020463  0.070989  ... -0.109144  0.056168 -0.094267   \n",
       "1     0.117803 -0.036965  0.066339  ... -0.111039  0.037476 -0.037692   \n",
       "2     0.080247 -0.029785  0.052379  ... -0.120128  0.113636 -0.021476   \n",
       "3     0.101935 -0.095030  0.071394  ... -0.168329  0.041958 -0.046039   \n",
       "4     0.105057 -0.020392  0.127749  ... -0.134584  0.128961 -0.055376   \n",
       "...        ...       ...       ...  ...       ...       ...       ...   \n",
       "2437  0.064453  0.097168 -0.015137  ...  0.093750  0.042542  0.026489   \n",
       "2438 -0.010864 -0.219482  0.080505  ... -0.066467  0.048859 -0.047043   \n",
       "2439  0.000000  0.000000  0.000000  ...  0.000000  0.000000  0.000000   \n",
       "2440  0.041423 -0.071615  0.065877  ... -0.049072  0.149902 -0.137634   \n",
       "2441  0.103816 -0.079417  0.120544  ... -0.033778  0.135666 -0.024923   \n",
       "\n",
       "           293       294       295       296       297       298       299  \n",
       "0    -0.002266 -0.000630  0.034838 -0.050432 -0.082519 -0.058517 -0.084094  \n",
       "1     0.014641 -0.033205  0.092497 -0.027912 -0.017063 -0.050849 -0.066237  \n",
       "2    -0.043010  0.050251  0.023088  0.028648 -0.092174 -0.106146  0.061167  \n",
       "3    -0.039089 -0.018669  0.049331 -0.036801 -0.036714 -0.032854  0.002749  \n",
       "4     0.009431 -0.027363  0.014968  0.045993 -0.082018 -0.065550 -0.084932  \n",
       "...        ...       ...       ...       ...       ...       ...       ...  \n",
       "2437  0.014893 -0.046875 -0.259277  0.060059 -0.158569 -0.154785 -0.022278  \n",
       "2438  0.087646 -0.072632 -0.008606 -0.140869 -0.116821 -0.064392  0.026764  \n",
       "2439  0.000000  0.000000  0.000000  0.000000  0.000000  0.000000  0.000000  \n",
       "2440  0.075846 -0.028071 -0.089600 -0.154867 -0.002360 -0.088175  0.027323  \n",
       "2441  0.016905  0.022451 -0.023905 -0.034216 -0.109090  0.036997  0.015066  \n",
       "\n",
       "[2442 rows x 301 columns]"
      ]
     },
     "execution_count": 14,
     "metadata": {},
     "output_type": "execute_result"
    }
   ],
   "source": [
    "X"
   ]
  },
  {
   "cell_type": "code",
   "execution_count": 15,
   "id": "483fe450",
   "metadata": {},
   "outputs": [],
   "source": [
    "X_train, X_test, y_train, y_test = train_test_split(X, y, test_size = 0.2, random_state = 20)"
   ]
  },
  {
   "cell_type": "markdown",
   "id": "20ec2621",
   "metadata": {},
   "source": [
    "# Model Training with Various Algorithms"
   ]
  },
  {
   "cell_type": "code",
   "execution_count": 16,
   "id": "4726db33",
   "metadata": {},
   "outputs": [],
   "source": [
    "def evaluate_model(y_true, y_pred):\n",
    "    mse = mean_squared_error(y_true, y_pred)\n",
    "    rmse = np.sqrt(mse)  # Calculate RMSE\n",
    "    mae = mean_absolute_error(y_true, y_pred)\n",
    "    return {'MSE': mse, 'RMSE': rmse, 'MAE': mae}"
   ]
  },
  {
   "cell_type": "code",
   "execution_count": 17,
   "id": "7022cdf8",
   "metadata": {},
   "outputs": [
    {
     "name": "stdout",
     "output_type": "stream",
     "text": [
      "Linear Regression Evaluation:\n",
      "Linear Regression Evaluation:\n",
      "{'MSE': 0.2670100004862311, 'RMSE': 0.516730104102936, 'MAE': 0.3785642715280082}\n"
     ]
    }
   ],
   "source": [
    "lr_model = LinearRegression()\n",
    "lr_model.fit(X_train, y_train)\n",
    "lr_pred = lr_model.predict(X_test)\n",
    "print(\"Linear Regression Evaluation:\")\n",
    "print(\"Linear Regression Evaluation:\")\n",
    "lr_eval = evaluate_model(y_test, lr_pred)\n",
    "print(lr_eval)"
   ]
  },
  {
   "cell_type": "code",
   "execution_count": 18,
   "id": "aac06168",
   "metadata": {},
   "outputs": [
    {
     "name": "stdout",
     "output_type": "stream",
     "text": [
      "Best Parameters: {'max_depth': 10, 'min_samples_leaf': 8, 'min_samples_split': 30}\n"
     ]
    }
   ],
   "source": [
    "param_grid = {\n",
    "    'max_depth': [None, 10, 20, 30, 40, 50, 60, 70, 80, 90, 100],\n",
    "    'min_samples_split': [2, 5, 10, 20, 30],\n",
    "    'min_samples_leaf': [1, 2, 4, 6, 8, 10]\n",
    "}\n",
    "dt_model = DecisionTreeRegressor()\n",
    "grid_search = GridSearchCV(dt_model, param_grid, cv = 10, scoring='neg_mean_squared_error', n_jobs = -1)\n",
    "grid_search.fit(X_train, y_train)\n",
    "best_params = grid_search.best_params_\n",
    "print(\"Best Parameters:\", best_params)"
   ]
  },
  {
   "cell_type": "code",
   "execution_count": 19,
   "id": "e97f0a1d",
   "metadata": {},
   "outputs": [
    {
     "name": "stdout",
     "output_type": "stream",
     "text": [
      "Best Decision Tree Evaluation:\n",
      "{'MSE': 0.290600277277291, 'RMSE': 0.539073536057272, 'MAE': 0.3641386804847987}\n"
     ]
    }
   ],
   "source": [
    "best_dt_model = DecisionTreeRegressor(**best_params)\n",
    "best_dt_model.fit(X_train, y_train)\n",
    "best_dt_pred = best_dt_model.predict(X_test)\n",
    "print(\"Best Decision Tree Evaluation:\")\n",
    "dt_eval = evaluate_model(y_test, best_dt_pred)\n",
    "print(dt_eval)"
   ]
  },
  {
   "cell_type": "code",
   "execution_count": 20,
   "id": "20f936cb",
   "metadata": {},
   "outputs": [
    {
     "name": "stdout",
     "output_type": "stream",
     "text": [
      "Best SVR Parameters: {'C': 0.1, 'epsilon': 0.2, 'kernel': 'linear'}\n"
     ]
    }
   ],
   "source": [
    "# Support Vector Regression with GridSearch\n",
    "svr_param_grid = {\n",
    "    'C': [0.1, 1, 10, 100],\n",
    "    'epsilon': [0.01, 0.1, 0.2, 0.5],\n",
    "    'kernel': ['linear', 'rbf']\n",
    "}\n",
    "\n",
    "svr_model = SVR()\n",
    "grid_search_svr = GridSearchCV(svr_model, svr_param_grid, cv=10, scoring='neg_mean_squared_error', n_jobs=-1)\n",
    "grid_search_svr.fit(X_train, y_train)\n",
    "best_svr_params = grid_search_svr.best_params_\n",
    "print(\"Best SVR Parameters:\", best_svr_params)\n"
   ]
  },
  {
   "cell_type": "code",
   "execution_count": 21,
   "id": "fe5a0fab",
   "metadata": {},
   "outputs": [
    {
     "name": "stdout",
     "output_type": "stream",
     "text": [
      "Best SVR Evaluation:\n",
      "{'MSE': 0.22650124933636814, 'RMSE': 0.475921473918091, 'MAE': 0.3538366542557202}\n"
     ]
    }
   ],
   "source": [
    "best_svr_model = SVR(**best_svr_params)\n",
    "best_svr_model.fit(X_train, y_train)\n",
    "best_svr_pred = best_svr_model.predict(X_test)\n",
    "print(\"Best SVR Evaluation:\")\n",
    "svr_eval = evaluate_model(y_test, best_svr_pred)\n",
    "print(svr_eval)"
   ]
  },
  {
   "cell_type": "markdown",
   "id": "4b76cf15",
   "metadata": {},
   "source": [
    "# Model Evaluation and Selection"
   ]
  },
  {
   "cell_type": "code",
   "execution_count": 22,
   "id": "417df623",
   "metadata": {},
   "outputs": [
    {
     "name": "stdout",
     "output_type": "stream",
     "text": [
      "Error metrics for each model:\n",
      "               Model       MSE      RMSE       MAE\n",
      "0  Linear Regression  0.267010  0.516730  0.378564\n",
      "1      Decision Tree  0.290600  0.539074  0.364139\n",
      "2                SVM  0.226501  0.475921  0.353837\n"
     ]
    }
   ],
   "source": [
    "# Error metrics for each model\n",
    "error_data = {\n",
    "    'Model': ['Linear Regression', 'Decision Tree', 'SVM'],\n",
    "    'MSE': [mean_squared_error(y_test, lr_pred), mean_squared_error(y_test, best_dt_pred), mean_squared_error(y_test, best_svr_pred)],\n",
    "    'RMSE': [np.sqrt(mean_squared_error(y_test, lr_pred)), np.sqrt(mean_squared_error(y_test, best_dt_pred)), np.sqrt(mean_squared_error(y_test, best_svr_pred))],\n",
    "    'MAE': [mean_absolute_error(y_test, lr_pred), mean_absolute_error(y_test, best_dt_pred), mean_absolute_error(y_test, best_svr_pred)]\n",
    "}\n",
    "error_df = pd.DataFrame(error_data)\n",
    "print(\"Error metrics for each model:\")\n",
    "print(error_df)"
   ]
  },
  {
   "cell_type": "code",
   "execution_count": 23,
   "id": "3647873c",
   "metadata": {},
   "outputs": [
    {
     "data": {
      "image/png": "[encoded data removed]",
      "text/plain": [
       "<Figure size 1200x600 with 1 Axes>"
      ]
     },
     "metadata": {},
     "output_type": "display_data"
    }
   ],
   "source": [
    "# Error metrics for each model\n",
    "models = ['Linear Regression', 'Decision Tree', 'SVM']\n",
    "mse_values = [lr_eval['MSE'], dt_eval['MSE'], svr_eval['MSE']]\n",
    "rmse_values = [lr_eval['RMSE'], dt_eval['RMSE'], svr_eval['RMSE']]\n",
    "mae_values = [lr_eval['MAE'], dt_eval['MAE'], svr_eval['MAE']]\n",
    "\n",
    "bar_width = 0.25\n",
    "\n",
    "r1 = np.arange(len(models))\n",
    "r2 = [x + bar_width for x in r1]\n",
    "r3 = [x + bar_width for x in r2]\n",
    "\n",
    "plt.figure(figsize=(12, 6))\n",
    "plt.bar(r1, mse_values, color='orange', width=bar_width, label='MSE')\n",
    "plt.bar(r2, rmse_values, color='blue', width=bar_width, label='RMSE')\n",
    "plt.bar(r3, mae_values, color='green', width=bar_width, label='MAE')\n",
    "\n",
    "plt.xlabel('Model', fontweight='bold')\n",
    "plt.xticks([r + bar_width for r in range(len(models))], models, rotation=45)\n",
    "\n",
    "plt.ylabel('Error Value', fontweight='bold')\n",
    "plt.title('Error Metrics for Each Model', fontweight='bold')\n",
    "plt.legend()\n",
    "\n",
    "plt.grid(axis='y', linestyle='--', alpha=0.7)\n",
    "plt.tight_layout()\n",
    "plt.show()"
   ]
  },
  {
   "cell_type": "code",
   "execution_count": null,
   "id": "d590bd4e",
   "metadata": {},
   "outputs": [],
   "source": []
  }
 ],
 "metadata": {
  "kernelspec": {
   "display_name": "Python 3 (ipykernel)",
   "language": "python",
   "name": "python3"
  },
  "language_info": {
   "codemirror_mode": {
    "name": "ipython",
    "version": 3
   },
   "file_extension": ".py",
   "mimetype": "text/x-python",
   "name": "python",
   "nbconvert_exporter": "python",
   "pygments_lexer": "ipython3",
   "version": "3.11.5"
  }
 },
 "nbformat": 4,
 "nbformat_minor": 5
}
